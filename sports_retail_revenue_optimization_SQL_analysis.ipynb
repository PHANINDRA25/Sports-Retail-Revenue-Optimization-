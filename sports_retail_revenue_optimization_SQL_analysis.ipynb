{
  "cells": [
    {
      "cell_type": "markdown",
      "source": [
        "# Sports-Retail-Revenue-Optimization SQL Analysis\n",
        "\n",
        "---\n",
        "\n",
        "\n",
        "For this project. I have utilized dataset of an online sports cleaning company. This database consists of 5 relational tables info, finance, reviews, brands,traffic. By performing data transformation, product segmentation & analyzing different factors influencing revenue we aim to optimize marketing strategies and discover ways to surge revenue."
      ],
      "metadata": {
        "id": "E_qtK4qvQLJ8"
      }
    },
    {
      "cell_type": "markdown",
      "source": [
        "## 1. Counting Missing values"
      ],
      "metadata": {
        "id": "dfFpCiR3W42_"
      }
    },
    {
      "cell_type": "code",
      "execution_count": null,
      "metadata": {
        "dc": {
          "key": "8"
        },
        "tags": [
          "sample_code"
        ],
        "id": "2TZEBFexPafu",
        "outputId": "6743497b-0bd8-4ef4-80f9-def55762968d"
      },
      "outputs": [
        {
          "name": "stdout",
          "output_type": "stream",
          "text": [
            "1 rows affected.\n"
          ]
        },
        {
          "data": {
            "text/html": [
              "<table>\n",
              "    <tr>\n",
              "        <th>total_rows</th>\n",
              "        <th>count_description</th>\n",
              "        <th>count_listing_price</th>\n",
              "        <th>count_last_visited</th>\n",
              "    </tr>\n",
              "    <tr>\n",
              "        <td>3179</td>\n",
              "        <td>3117</td>\n",
              "        <td>3120</td>\n",
              "        <td>2928</td>\n",
              "    </tr>\n",
              "</table>"
            ],
            "text/plain": [
              "[(3179, 3117, 3120, 2928)]"
            ]
          },
          "execution_count": 146,
          "metadata": {},
          "output_type": "execute_result"
        }
      ],
      "source": [
        "%%sql\n",
        "postgresql:///sports\n",
        "\n",
        "\n",
        "SELECT\n",
        "    COUNT(*) AS total_rows,\n",
        "    SUM(CASE WHEN description IS NOT NULL THEN 1 ELSE 0 END) AS count_description,\n",
        "    SUM(CASE WHEN listing_price IS NOT NULL THEN 1 ELSE 0 END) AS count_listing_price,\n",
        "    SUM(CASE WHEN last_visited IS NOT NULL THEN 1 ELSE 0 END) AS count_last_visited\n",
        "FROM\n",
        "    info\n",
        "JOIN\n",
        "    finance USING (product_id)\n",
        "JOIN\n",
        "    traffic USING (product_id);\n",
        "\n",
        "\n",
        "\n"
      ]
    },
    {
      "cell_type": "markdown",
      "source": [
        "## 2. Nike vs Adidas pricing"
      ],
      "metadata": {
        "id": "5Tb6KWVYXFXV"
      }
    },
    {
      "cell_type": "code",
      "execution_count": null,
      "metadata": {
        "dc": {
          "key": "18"
        },
        "tags": [
          "sample_code"
        ],
        "id": "cGUKvHhfPafy",
        "outputId": "08456c1d-1bd8-4900-9a85-3249360d6dd7"
      },
      "outputs": [
        {
          "name": "stdout",
          "output_type": "stream",
          "text": [
            "77 rows affected.\n"
          ]
        },
        {
          "data": {
            "text/html": [
              "<table>\n",
              "    <tr>\n",
              "        <th>brand</th>\n",
              "        <th>listing_price</th>\n",
              "        <th>count</th>\n",
              "    </tr>\n",
              "    <tr>\n",
              "        <td>Adidas</td>\n",
              "        <td>300</td>\n",
              "        <td>2</td>\n",
              "    </tr>\n",
              "    <tr>\n",
              "        <td>Adidas</td>\n",
              "        <td>280</td>\n",
              "        <td>4</td>\n",
              "    </tr>\n",
              "    <tr>\n",
              "        <td>Adidas</td>\n",
              "        <td>240</td>\n",
              "        <td>5</td>\n",
              "    </tr>\n",
              "    <tr>\n",
              "        <td>Adidas</td>\n",
              "        <td>230</td>\n",
              "        <td>8</td>\n",
              "    </tr>\n",
              "    <tr>\n",
              "        <td>Adidas</td>\n",
              "        <td>220</td>\n",
              "        <td>11</td>\n",
              "    </tr>\n",
              "    <tr>\n",
              "        <td>Nike</td>\n",
              "        <td>200</td>\n",
              "        <td>1</td>\n",
              "    </tr>\n",
              "    <tr>\n",
              "        <td>Adidas</td>\n",
              "        <td>200</td>\n",
              "        <td>8</td>\n",
              "    </tr>\n",
              "    <tr>\n",
              "        <td>Nike</td>\n",
              "        <td>190</td>\n",
              "        <td>2</td>\n",
              "    </tr>\n",
              "    <tr>\n",
              "        <td>Adidas</td>\n",
              "        <td>190</td>\n",
              "        <td>7</td>\n",
              "    </tr>\n",
              "    <tr>\n",
              "        <td>Nike</td>\n",
              "        <td>180</td>\n",
              "        <td>4</td>\n",
              "    </tr>\n",
              "    <tr>\n",
              "        <td>Adidas</td>\n",
              "        <td>180</td>\n",
              "        <td>34</td>\n",
              "    </tr>\n",
              "    <tr>\n",
              "        <td>Nike</td>\n",
              "        <td>170</td>\n",
              "        <td>14</td>\n",
              "    </tr>\n",
              "    <tr>\n",
              "        <td>Adidas</td>\n",
              "        <td>170</td>\n",
              "        <td>27</td>\n",
              "    </tr>\n",
              "    <tr>\n",
              "        <td>Nike</td>\n",
              "        <td>160</td>\n",
              "        <td>31</td>\n",
              "    </tr>\n",
              "    <tr>\n",
              "        <td>Adidas</td>\n",
              "        <td>160</td>\n",
              "        <td>28</td>\n",
              "    </tr>\n",
              "    <tr>\n",
              "        <td>Adidas</td>\n",
              "        <td>150</td>\n",
              "        <td>41</td>\n",
              "    </tr>\n",
              "    <tr>\n",
              "        <td>Nike</td>\n",
              "        <td>150</td>\n",
              "        <td>6</td>\n",
              "    </tr>\n",
              "    <tr>\n",
              "        <td>Adidas</td>\n",
              "        <td>140</td>\n",
              "        <td>36</td>\n",
              "    </tr>\n",
              "    <tr>\n",
              "        <td>Nike</td>\n",
              "        <td>140</td>\n",
              "        <td>12</td>\n",
              "    </tr>\n",
              "    <tr>\n",
              "        <td>Adidas</td>\n",
              "        <td>130</td>\n",
              "        <td>96</td>\n",
              "    </tr>\n",
              "    <tr>\n",
              "        <td>Nike</td>\n",
              "        <td>130</td>\n",
              "        <td>12</td>\n",
              "    </tr>\n",
              "    <tr>\n",
              "        <td>Adidas</td>\n",
              "        <td>120</td>\n",
              "        <td>115</td>\n",
              "    </tr>\n",
              "    <tr>\n",
              "        <td>Nike</td>\n",
              "        <td>120</td>\n",
              "        <td>16</td>\n",
              "    </tr>\n",
              "    <tr>\n",
              "        <td>Nike</td>\n",
              "        <td>110</td>\n",
              "        <td>17</td>\n",
              "    </tr>\n",
              "    <tr>\n",
              "        <td>Adidas</td>\n",
              "        <td>110</td>\n",
              "        <td>91</td>\n",
              "    </tr>\n",
              "    <tr>\n",
              "        <td>Nike</td>\n",
              "        <td>100</td>\n",
              "        <td>14</td>\n",
              "    </tr>\n",
              "    <tr>\n",
              "        <td>Adidas</td>\n",
              "        <td>100</td>\n",
              "        <td>72</td>\n",
              "    </tr>\n",
              "    <tr>\n",
              "        <td>Adidas</td>\n",
              "        <td>96</td>\n",
              "        <td>2</td>\n",
              "    </tr>\n",
              "    <tr>\n",
              "        <td>Nike</td>\n",
              "        <td>95</td>\n",
              "        <td>1</td>\n",
              "    </tr>\n",
              "    <tr>\n",
              "        <td>Nike</td>\n",
              "        <td>90</td>\n",
              "        <td>13</td>\n",
              "    </tr>\n",
              "    <tr>\n",
              "        <td>Adidas</td>\n",
              "        <td>90</td>\n",
              "        <td>89</td>\n",
              "    </tr>\n",
              "    <tr>\n",
              "        <td>Adidas</td>\n",
              "        <td>86</td>\n",
              "        <td>7</td>\n",
              "    </tr>\n",
              "    <tr>\n",
              "        <td>Nike</td>\n",
              "        <td>85</td>\n",
              "        <td>5</td>\n",
              "    </tr>\n",
              "    <tr>\n",
              "        <td>Adidas</td>\n",
              "        <td>85</td>\n",
              "        <td>1</td>\n",
              "    </tr>\n",
              "    <tr>\n",
              "        <td>Adidas</td>\n",
              "        <td>80</td>\n",
              "        <td>322</td>\n",
              "    </tr>\n",
              "    <tr>\n",
              "        <td>Nike</td>\n",
              "        <td>80</td>\n",
              "        <td>16</td>\n",
              "    </tr>\n",
              "    <tr>\n",
              "        <td>Nike</td>\n",
              "        <td>79</td>\n",
              "        <td>1</td>\n",
              "    </tr>\n",
              "    <tr>\n",
              "        <td>Adidas</td>\n",
              "        <td>76</td>\n",
              "        <td>149</td>\n",
              "    </tr>\n",
              "    <tr>\n",
              "        <td>Adidas</td>\n",
              "        <td>75</td>\n",
              "        <td>1</td>\n",
              "    </tr>\n",
              "    <tr>\n",
              "        <td>Nike</td>\n",
              "        <td>75</td>\n",
              "        <td>7</td>\n",
              "    </tr>\n",
              "    <tr>\n",
              "        <td>Adidas</td>\n",
              "        <td>70</td>\n",
              "        <td>87</td>\n",
              "    </tr>\n",
              "    <tr>\n",
              "        <td>Nike</td>\n",
              "        <td>70</td>\n",
              "        <td>4</td>\n",
              "    </tr>\n",
              "    <tr>\n",
              "        <td>Adidas</td>\n",
              "        <td>66</td>\n",
              "        <td>102</td>\n",
              "    </tr>\n",
              "    <tr>\n",
              "        <td>Nike</td>\n",
              "        <td>65</td>\n",
              "        <td>1</td>\n",
              "    </tr>\n",
              "    <tr>\n",
              "        <td>Adidas</td>\n",
              "        <td>63</td>\n",
              "        <td>1</td>\n",
              "    </tr>\n",
              "    <tr>\n",
              "        <td>Nike</td>\n",
              "        <td>60</td>\n",
              "        <td>2</td>\n",
              "    </tr>\n",
              "    <tr>\n",
              "        <td>Adidas</td>\n",
              "        <td>60</td>\n",
              "        <td>211</td>\n",
              "    </tr>\n",
              "    <tr>\n",
              "        <td>Adidas</td>\n",
              "        <td>56</td>\n",
              "        <td>174</td>\n",
              "    </tr>\n",
              "    <tr>\n",
              "        <td>Adidas</td>\n",
              "        <td>55</td>\n",
              "        <td>2</td>\n",
              "    </tr>\n",
              "    <tr>\n",
              "        <td>Adidas</td>\n",
              "        <td>53</td>\n",
              "        <td>43</td>\n",
              "    </tr>\n",
              "    <tr>\n",
              "        <td>Nike</td>\n",
              "        <td>50</td>\n",
              "        <td>5</td>\n",
              "    </tr>\n",
              "    <tr>\n",
              "        <td>Adidas</td>\n",
              "        <td>50</td>\n",
              "        <td>183</td>\n",
              "    </tr>\n",
              "    <tr>\n",
              "        <td>Adidas</td>\n",
              "        <td>48</td>\n",
              "        <td>42</td>\n",
              "    </tr>\n",
              "    <tr>\n",
              "        <td>Nike</td>\n",
              "        <td>48</td>\n",
              "        <td>1</td>\n",
              "    </tr>\n",
              "    <tr>\n",
              "        <td>Adidas</td>\n",
              "        <td>46</td>\n",
              "        <td>163</td>\n",
              "    </tr>\n",
              "    <tr>\n",
              "        <td>Nike</td>\n",
              "        <td>45</td>\n",
              "        <td>3</td>\n",
              "    </tr>\n",
              "    <tr>\n",
              "        <td>Adidas</td>\n",
              "        <td>45</td>\n",
              "        <td>1</td>\n",
              "    </tr>\n",
              "    <tr>\n",
              "        <td>Adidas</td>\n",
              "        <td>43</td>\n",
              "        <td>51</td>\n",
              "    </tr>\n",
              "    <tr>\n",
              "        <td>Adidas</td>\n",
              "        <td>40</td>\n",
              "        <td>81</td>\n",
              "    </tr>\n",
              "    <tr>\n",
              "        <td>Nike</td>\n",
              "        <td>40</td>\n",
              "        <td>1</td>\n",
              "    </tr>\n",
              "    <tr>\n",
              "        <td>Adidas</td>\n",
              "        <td>38</td>\n",
              "        <td>24</td>\n",
              "    </tr>\n",
              "    <tr>\n",
              "        <td>Adidas</td>\n",
              "        <td>36</td>\n",
              "        <td>25</td>\n",
              "    </tr>\n",
              "    <tr>\n",
              "        <td>Adidas</td>\n",
              "        <td>33</td>\n",
              "        <td>24</td>\n",
              "    </tr>\n",
              "    <tr>\n",
              "        <td>Adidas</td>\n",
              "        <td>30</td>\n",
              "        <td>37</td>\n",
              "    </tr>\n",
              "    <tr>\n",
              "        <td>Nike</td>\n",
              "        <td>30</td>\n",
              "        <td>2</td>\n",
              "    </tr>\n",
              "    <tr>\n",
              "        <td>Adidas</td>\n",
              "        <td>28</td>\n",
              "        <td>38</td>\n",
              "    </tr>\n",
              "    <tr>\n",
              "        <td>Adidas</td>\n",
              "        <td>27</td>\n",
              "        <td>18</td>\n",
              "    </tr>\n",
              "    <tr>\n",
              "        <td>Adidas</td>\n",
              "        <td>25</td>\n",
              "        <td>28</td>\n",
              "    </tr>\n",
              "    <tr>\n",
              "        <td>Adidas</td>\n",
              "        <td>23</td>\n",
              "        <td>1</td>\n",
              "    </tr>\n",
              "    <tr>\n",
              "        <td>Adidas</td>\n",
              "        <td>20</td>\n",
              "        <td>8</td>\n",
              "    </tr>\n",
              "    <tr>\n",
              "        <td>Adidas</td>\n",
              "        <td>18</td>\n",
              "        <td>4</td>\n",
              "    </tr>\n",
              "    <tr>\n",
              "        <td>Adidas</td>\n",
              "        <td>16</td>\n",
              "        <td>4</td>\n",
              "    </tr>\n",
              "    <tr>\n",
              "        <td>Adidas</td>\n",
              "        <td>15</td>\n",
              "        <td>27</td>\n",
              "    </tr>\n",
              "    <tr>\n",
              "        <td>Adidas</td>\n",
              "        <td>13</td>\n",
              "        <td>27</td>\n",
              "    </tr>\n",
              "    <tr>\n",
              "        <td>Adidas</td>\n",
              "        <td>12</td>\n",
              "        <td>1</td>\n",
              "    </tr>\n",
              "    <tr>\n",
              "        <td>Adidas</td>\n",
              "        <td>10</td>\n",
              "        <td>11</td>\n",
              "    </tr>\n",
              "    <tr>\n",
              "        <td>Adidas</td>\n",
              "        <td>9</td>\n",
              "        <td>1</td>\n",
              "    </tr>\n",
              "</table>"
            ],
            "text/plain": [
              "[('Adidas', 300, 2),\n",
              " ('Adidas', 280, 4),\n",
              " ('Adidas', 240, 5),\n",
              " ('Adidas', 230, 8),\n",
              " ('Adidas', 220, 11),\n",
              " ('Nike', 200, 1),\n",
              " ('Adidas', 200, 8),\n",
              " ('Nike', 190, 2),\n",
              " ('Adidas', 190, 7),\n",
              " ('Nike', 180, 4),\n",
              " ('Adidas', 180, 34),\n",
              " ('Nike', 170, 14),\n",
              " ('Adidas', 170, 27),\n",
              " ('Nike', 160, 31),\n",
              " ('Adidas', 160, 28),\n",
              " ('Adidas', 150, 41),\n",
              " ('Nike', 150, 6),\n",
              " ('Adidas', 140, 36),\n",
              " ('Nike', 140, 12),\n",
              " ('Adidas', 130, 96),\n",
              " ('Nike', 130, 12),\n",
              " ('Adidas', 120, 115),\n",
              " ('Nike', 120, 16),\n",
              " ('Nike', 110, 17),\n",
              " ('Adidas', 110, 91),\n",
              " ('Nike', 100, 14),\n",
              " ('Adidas', 100, 72),\n",
              " ('Adidas', 96, 2),\n",
              " ('Nike', 95, 1),\n",
              " ('Nike', 90, 13),\n",
              " ('Adidas', 90, 89),\n",
              " ('Adidas', 86, 7),\n",
              " ('Nike', 85, 5),\n",
              " ('Adidas', 85, 1),\n",
              " ('Adidas', 80, 322),\n",
              " ('Nike', 80, 16),\n",
              " ('Nike', 79, 1),\n",
              " ('Adidas', 76, 149),\n",
              " ('Adidas', 75, 1),\n",
              " ('Nike', 75, 7),\n",
              " ('Adidas', 70, 87),\n",
              " ('Nike', 70, 4),\n",
              " ('Adidas', 66, 102),\n",
              " ('Nike', 65, 1),\n",
              " ('Adidas', 63, 1),\n",
              " ('Nike', 60, 2),\n",
              " ('Adidas', 60, 211),\n",
              " ('Adidas', 56, 174),\n",
              " ('Adidas', 55, 2),\n",
              " ('Adidas', 53, 43),\n",
              " ('Nike', 50, 5),\n",
              " ('Adidas', 50, 183),\n",
              " ('Adidas', 48, 42),\n",
              " ('Nike', 48, 1),\n",
              " ('Adidas', 46, 163),\n",
              " ('Nike', 45, 3),\n",
              " ('Adidas', 45, 1),\n",
              " ('Adidas', 43, 51),\n",
              " ('Adidas', 40, 81),\n",
              " ('Nike', 40, 1),\n",
              " ('Adidas', 38, 24),\n",
              " ('Adidas', 36, 25),\n",
              " ('Adidas', 33, 24),\n",
              " ('Adidas', 30, 37),\n",
              " ('Nike', 30, 2),\n",
              " ('Adidas', 28, 38),\n",
              " ('Adidas', 27, 18),\n",
              " ('Adidas', 25, 28),\n",
              " ('Adidas', 23, 1),\n",
              " ('Adidas', 20, 8),\n",
              " ('Adidas', 18, 4),\n",
              " ('Adidas', 16, 4),\n",
              " ('Adidas', 15, 27),\n",
              " ('Adidas', 13, 27),\n",
              " ('Adidas', 12, 1),\n",
              " ('Adidas', 10, 11),\n",
              " ('Adidas', 9, 1)]"
            ]
          },
          "execution_count": 148,
          "metadata": {},
          "output_type": "execute_result"
        }
      ],
      "source": [
        "%%sql\n",
        "postgresql:///sports\n",
        "\n",
        "\n",
        "select brand,listing_price::int,count(*)\n",
        "from finance\n",
        "inner join brands\n",
        "using (product_id)\n",
        "group by brand,listing_price\n",
        "having listing_price>0\n",
        "order by listing_price desc;\n",
        ""
      ]
    },
    {
      "cell_type": "markdown",
      "source": [
        "## 3. Product segementation based on price"
      ],
      "metadata": {
        "id": "0dGMtFD0XTls"
      }
    },
    {
      "cell_type": "code",
      "execution_count": null,
      "metadata": {
        "dc": {
          "key": "27"
        },
        "tags": [
          "sample_code"
        ],
        "id": "H_XYKUc7Pafz",
        "outputId": "f35b71a8-de0c-4516-be35-7dc4d7207435"
      },
      "outputs": [
        {
          "name": "stdout",
          "output_type": "stream",
          "text": [
            "8 rows affected.\n"
          ]
        },
        {
          "data": {
            "text/html": [
              "<table>\n",
              "    <tr>\n",
              "        <th>brand</th>\n",
              "        <th>count</th>\n",
              "        <th>total_revenue</th>\n",
              "        <th>price_category</th>\n",
              "    </tr>\n",
              "    <tr>\n",
              "        <td>Adidas</td>\n",
              "        <td>849</td>\n",
              "        <td>4626980.069999999</td>\n",
              "        <td>Expensive</td>\n",
              "    </tr>\n",
              "    <tr>\n",
              "        <td>Adidas</td>\n",
              "        <td>1060</td>\n",
              "        <td>3233661.060000001</td>\n",
              "        <td>Average</td>\n",
              "    </tr>\n",
              "    <tr>\n",
              "        <td>Adidas</td>\n",
              "        <td>307</td>\n",
              "        <td>3014316.8299999987</td>\n",
              "        <td>Elite</td>\n",
              "    </tr>\n",
              "    <tr>\n",
              "        <td>Adidas</td>\n",
              "        <td>359</td>\n",
              "        <td>651661.1200000002</td>\n",
              "        <td>Budget</td>\n",
              "    </tr>\n",
              "    <tr>\n",
              "        <td>Nike</td>\n",
              "        <td>357</td>\n",
              "        <td>595341.0199999992</td>\n",
              "        <td>Budget</td>\n",
              "    </tr>\n",
              "    <tr>\n",
              "        <td>Nike</td>\n",
              "        <td>82</td>\n",
              "        <td>128475.59000000003</td>\n",
              "        <td>Elite</td>\n",
              "    </tr>\n",
              "    <tr>\n",
              "        <td>Nike</td>\n",
              "        <td>90</td>\n",
              "        <td>71843.15000000004</td>\n",
              "        <td>Expensive</td>\n",
              "    </tr>\n",
              "    <tr>\n",
              "        <td>Nike</td>\n",
              "        <td>16</td>\n",
              "        <td>6623.5</td>\n",
              "        <td>Average</td>\n",
              "    </tr>\n",
              "</table>"
            ],
            "text/plain": [
              "[('Adidas', 849, 4626980.069999999, 'Expensive'),\n",
              " ('Adidas', 1060, 3233661.060000001, 'Average'),\n",
              " ('Adidas', 307, 3014316.8299999987, 'Elite'),\n",
              " ('Adidas', 359, 651661.1200000002, 'Budget'),\n",
              " ('Nike', 357, 595341.0199999992, 'Budget'),\n",
              " ('Nike', 82, 128475.59000000003, 'Elite'),\n",
              " ('Nike', 90, 71843.15000000004, 'Expensive'),\n",
              " ('Nike', 16, 6623.5, 'Average')]"
            ]
          },
          "execution_count": 150,
          "metadata": {},
          "output_type": "execute_result"
        }
      ],
      "source": [
        "%%sql\n",
        "postgresql:///sports\n",
        "\n",
        "select brand,count(*),SUM(revenue) AS total_revenue ,\n",
        "CASE\n",
        "WHEN listing_price<42 then 'Budget'\n",
        "WHEN listing_price>=42 AND listing_price<74 then 'Average'\n",
        "WHEN listing_price>=74 AND listing_price<129 then 'Expensive'\n",
        "WHEN listing_price>=129 then 'Elite'\n",
        "END AS price_category\n",
        "from finance\n",
        "inner join brands as b\n",
        "using (product_id)\n",
        "where b.brand IS NOT NULL\n",
        "group by brand,price_category\n",
        "ORDER BY total_revenue DESC;"
      ]
    },
    {
      "cell_type": "markdown",
      "source": [
        "## 4. Average discount by brand"
      ],
      "metadata": {
        "id": "C3eIdj6xXkpZ"
      }
    },
    {
      "cell_type": "code",
      "execution_count": null,
      "metadata": {
        "dc": {
          "key": "38"
        },
        "tags": [
          "sample_code"
        ],
        "id": "l6yb6VTpPaf0",
        "outputId": "602c9f07-e01b-4ac0-ffbd-f5107e7acc4e"
      },
      "outputs": [
        {
          "name": "stdout",
          "output_type": "stream",
          "text": [
            "2 rows affected.\n"
          ]
        },
        {
          "data": {
            "text/html": [
              "<table>\n",
              "    <tr>\n",
              "        <th>brand</th>\n",
              "        <th>average_discount</th>\n",
              "    </tr>\n",
              "    <tr>\n",
              "        <td>Nike</td>\n",
              "        <td>0.0</td>\n",
              "    </tr>\n",
              "    <tr>\n",
              "        <td>Adidas</td>\n",
              "        <td>33.452427184465606</td>\n",
              "    </tr>\n",
              "</table>"
            ],
            "text/plain": [
              "[('Nike', 0.0), ('Adidas', 33.452427184465606)]"
            ]
          },
          "execution_count": 152,
          "metadata": {},
          "output_type": "execute_result"
        }
      ],
      "source": [
        "%%sql\n",
        "postgresql:///sports\n",
        "\n",
        "\n",
        "\n",
        "select brand,avg(discount)*100 as average_discount\n",
        "from finance\n",
        "inner join brands\n",
        "using (product_id)\n",
        "where brand IS NOT NULL\n",
        "group by brand"
      ]
    },
    {
      "cell_type": "markdown",
      "source": [
        "## 5. Correlation between revenue and reviews"
      ],
      "metadata": {
        "id": "6x7igqQBXp6b"
      }
    },
    {
      "cell_type": "code",
      "execution_count": null,
      "metadata": {
        "dc": {
          "key": "48"
        },
        "tags": [
          "sample_code"
        ],
        "id": "FnKkP8H1Paf1",
        "outputId": "66474ecb-e0f4-4a77-d9ae-bd1568ee15db"
      },
      "outputs": [
        {
          "name": "stdout",
          "output_type": "stream",
          "text": [
            "1 rows affected.\n"
          ]
        },
        {
          "data": {
            "text/html": [
              "<table>\n",
              "    <tr>\n",
              "        <th>review_revenue_corr</th>\n",
              "    </tr>\n",
              "    <tr>\n",
              "        <td>0.6518512283481301</td>\n",
              "    </tr>\n",
              "</table>"
            ],
            "text/plain": [
              "[(0.6518512283481301,)]"
            ]
          },
          "execution_count": 154,
          "metadata": {},
          "output_type": "execute_result"
        }
      ],
      "source": [
        "%%sql\n",
        "\n",
        "postgresql:///sports\n",
        "\n",
        "select corr(reviews,revenue) as review_revenue_corr\n",
        "from finance\n",
        "join reviews\n",
        "using (product_id)"
      ]
    },
    {
      "cell_type": "markdown",
      "source": [
        "## 6. Effect of description length on ratings & reviews"
      ],
      "metadata": {
        "id": "OmkrTwsVXxyX"
      }
    },
    {
      "cell_type": "code",
      "execution_count": null,
      "metadata": {
        "dc": {
          "key": "58"
        },
        "tags": [
          "sample_code"
        ],
        "id": "sULt-3QTPaf2",
        "outputId": "80d91aef-e785-4817-e790-69b2b484a2f4"
      },
      "outputs": [
        {
          "name": "stdout",
          "output_type": "stream",
          "text": [
            "7 rows affected.\n"
          ]
        },
        {
          "data": {
            "text/html": [
              "<table>\n",
              "    <tr>\n",
              "        <th>description_length</th>\n",
              "        <th>average_rating</th>\n",
              "    </tr>\n",
              "    <tr>\n",
              "        <td>0</td>\n",
              "        <td>1.87</td>\n",
              "    </tr>\n",
              "    <tr>\n",
              "        <td>100</td>\n",
              "        <td>3.21</td>\n",
              "    </tr>\n",
              "    <tr>\n",
              "        <td>200</td>\n",
              "        <td>3.27</td>\n",
              "    </tr>\n",
              "    <tr>\n",
              "        <td>300</td>\n",
              "        <td>3.29</td>\n",
              "    </tr>\n",
              "    <tr>\n",
              "        <td>400</td>\n",
              "        <td>3.32</td>\n",
              "    </tr>\n",
              "    <tr>\n",
              "        <td>500</td>\n",
              "        <td>3.12</td>\n",
              "    </tr>\n",
              "    <tr>\n",
              "        <td>600</td>\n",
              "        <td>3.65</td>\n",
              "    </tr>\n",
              "</table>"
            ],
            "text/plain": [
              "[(Decimal('0'), Decimal('1.87')),\n",
              " (Decimal('100'), Decimal('3.21')),\n",
              " (Decimal('200'), Decimal('3.27')),\n",
              " (Decimal('300'), Decimal('3.29')),\n",
              " (Decimal('400'), Decimal('3.32')),\n",
              " (Decimal('500'), Decimal('3.12')),\n",
              " (Decimal('600'), Decimal('3.65'))]"
            ]
          },
          "execution_count": 156,
          "metadata": {},
          "output_type": "execute_result"
        }
      ],
      "source": [
        "%%sql\n",
        "postgresql:///sports\n",
        "\n",
        "\n",
        "\n",
        "select trunc(length(description),-2) as description_length, round(avg(rating::numeric),2) as average_rating\n",
        "from info\n",
        "inner join reviews using (product_id)\n",
        "where description IS NOT NULL\n",
        "group by description_length\n",
        "order by description_length;"
      ]
    },
    {
      "cell_type": "markdown",
      "source": [
        "## 7. Reviews  by month and brand"
      ],
      "metadata": {
        "id": "MaNzg8dMX9tE"
      }
    },
    {
      "cell_type": "code",
      "execution_count": null,
      "metadata": {
        "dc": {
          "key": "68"
        },
        "tags": [
          "sample_code"
        ],
        "id": "l76AmhEYPaf3",
        "outputId": "fa0d6a03-513f-428a-f0dc-2bb18905e2da"
      },
      "outputs": [
        {
          "name": "stdout",
          "output_type": "stream",
          "text": [
            "24 rows affected.\n"
          ]
        },
        {
          "data": {
            "text/html": [
              "<table>\n",
              "    <tr>\n",
              "        <th>brand</th>\n",
              "        <th>month</th>\n",
              "        <th>num_reviews</th>\n",
              "    </tr>\n",
              "    <tr>\n",
              "        <td>Adidas</td>\n",
              "        <td>1</td>\n",
              "        <td>253</td>\n",
              "    </tr>\n",
              "    <tr>\n",
              "        <td>Adidas</td>\n",
              "        <td>2</td>\n",
              "        <td>272</td>\n",
              "    </tr>\n",
              "    <tr>\n",
              "        <td>Adidas</td>\n",
              "        <td>3</td>\n",
              "        <td>269</td>\n",
              "    </tr>\n",
              "    <tr>\n",
              "        <td>Adidas</td>\n",
              "        <td>4</td>\n",
              "        <td>180</td>\n",
              "    </tr>\n",
              "    <tr>\n",
              "        <td>Adidas</td>\n",
              "        <td>5</td>\n",
              "        <td>172</td>\n",
              "    </tr>\n",
              "    <tr>\n",
              "        <td>Adidas</td>\n",
              "        <td>6</td>\n",
              "        <td>159</td>\n",
              "    </tr>\n",
              "    <tr>\n",
              "        <td>Adidas</td>\n",
              "        <td>7</td>\n",
              "        <td>170</td>\n",
              "    </tr>\n",
              "    <tr>\n",
              "        <td>Adidas</td>\n",
              "        <td>8</td>\n",
              "        <td>189</td>\n",
              "    </tr>\n",
              "    <tr>\n",
              "        <td>Adidas</td>\n",
              "        <td>9</td>\n",
              "        <td>181</td>\n",
              "    </tr>\n",
              "    <tr>\n",
              "        <td>Adidas</td>\n",
              "        <td>10</td>\n",
              "        <td>192</td>\n",
              "    </tr>\n",
              "    <tr>\n",
              "        <td>Adidas</td>\n",
              "        <td>11</td>\n",
              "        <td>150</td>\n",
              "    </tr>\n",
              "    <tr>\n",
              "        <td>Adidas</td>\n",
              "        <td>12</td>\n",
              "        <td>190</td>\n",
              "    </tr>\n",
              "    <tr>\n",
              "        <td>Nike</td>\n",
              "        <td>1</td>\n",
              "        <td>52</td>\n",
              "    </tr>\n",
              "    <tr>\n",
              "        <td>Nike</td>\n",
              "        <td>2</td>\n",
              "        <td>52</td>\n",
              "    </tr>\n",
              "    <tr>\n",
              "        <td>Nike</td>\n",
              "        <td>3</td>\n",
              "        <td>55</td>\n",
              "    </tr>\n",
              "    <tr>\n",
              "        <td>Nike</td>\n",
              "        <td>4</td>\n",
              "        <td>42</td>\n",
              "    </tr>\n",
              "    <tr>\n",
              "        <td>Nike</td>\n",
              "        <td>5</td>\n",
              "        <td>41</td>\n",
              "    </tr>\n",
              "    <tr>\n",
              "        <td>Nike</td>\n",
              "        <td>6</td>\n",
              "        <td>43</td>\n",
              "    </tr>\n",
              "    <tr>\n",
              "        <td>Nike</td>\n",
              "        <td>7</td>\n",
              "        <td>37</td>\n",
              "    </tr>\n",
              "    <tr>\n",
              "        <td>Nike</td>\n",
              "        <td>8</td>\n",
              "        <td>29</td>\n",
              "    </tr>\n",
              "    <tr>\n",
              "        <td>Nike</td>\n",
              "        <td>9</td>\n",
              "        <td>28</td>\n",
              "    </tr>\n",
              "    <tr>\n",
              "        <td>Nike</td>\n",
              "        <td>10</td>\n",
              "        <td>47</td>\n",
              "    </tr>\n",
              "    <tr>\n",
              "        <td>Nike</td>\n",
              "        <td>11</td>\n",
              "        <td>38</td>\n",
              "    </tr>\n",
              "    <tr>\n",
              "        <td>Nike</td>\n",
              "        <td>12</td>\n",
              "        <td>35</td>\n",
              "    </tr>\n",
              "</table>"
            ],
            "text/plain": [
              "[('Adidas', Decimal('1'), 253),\n",
              " ('Adidas', Decimal('2'), 272),\n",
              " ('Adidas', Decimal('3'), 269),\n",
              " ('Adidas', Decimal('4'), 180),\n",
              " ('Adidas', Decimal('5'), 172),\n",
              " ('Adidas', Decimal('6'), 159),\n",
              " ('Adidas', Decimal('7'), 170),\n",
              " ('Adidas', Decimal('8'), 189),\n",
              " ('Adidas', Decimal('9'), 181),\n",
              " ('Adidas', Decimal('10'), 192),\n",
              " ('Adidas', Decimal('11'), 150),\n",
              " ('Adidas', Decimal('12'), 190),\n",
              " ('Nike', Decimal('1'), 52),\n",
              " ('Nike', Decimal('2'), 52),\n",
              " ('Nike', Decimal('3'), 55),\n",
              " ('Nike', Decimal('4'), 42),\n",
              " ('Nike', Decimal('5'), 41),\n",
              " ('Nike', Decimal('6'), 43),\n",
              " ('Nike', Decimal('7'), 37),\n",
              " ('Nike', Decimal('8'), 29),\n",
              " ('Nike', Decimal('9'), 28),\n",
              " ('Nike', Decimal('10'), 47),\n",
              " ('Nike', Decimal('11'), 38),\n",
              " ('Nike', Decimal('12'), 35)]"
            ]
          },
          "execution_count": 158,
          "metadata": {},
          "output_type": "execute_result"
        }
      ],
      "source": [
        "%%sql\n",
        "postgresql:///sports\n",
        "\n",
        "\n",
        "\n",
        "select brand, extract(month from last_visited) as month , count(*) as num_reviews\n",
        "from traffic\n",
        "join brands using (product_id)\n",
        "join reviews using (product_id)\n",
        "where brand IS NOT NULL AND last_visited is not null\n",
        "group by brand,month\n",
        "order by brand,month"
      ]
    },
    {
      "cell_type": "markdown",
      "source": [
        "## 8. Footwear Product performance"
      ],
      "metadata": {
        "id": "Unympf64YKQI"
      }
    },
    {
      "cell_type": "code",
      "execution_count": null,
      "metadata": {
        "dc": {
          "key": "76"
        },
        "tags": [
          "sample_code"
        ],
        "id": "JFW79saMPaf4",
        "outputId": "9957cc63-2d2c-4d5b-e329-51462400a70a"
      },
      "outputs": [
        {
          "name": "stdout",
          "output_type": "stream",
          "text": [
            "1 rows affected.\n"
          ]
        },
        {
          "data": {
            "text/html": [
              "<table>\n",
              "    <tr>\n",
              "        <th>num_footwear_products</th>\n",
              "        <th>median_footwear_revenue</th>\n",
              "    </tr>\n",
              "    <tr>\n",
              "        <td>2700</td>\n",
              "        <td>3118.36</td>\n",
              "    </tr>\n",
              "</table>"
            ],
            "text/plain": [
              "[(2700, 3118.36)]"
            ]
          },
          "execution_count": 160,
          "metadata": {},
          "output_type": "execute_result"
        }
      ],
      "source": [
        "%%sql\n",
        "postgresql:///sports\n",
        "\n",
        "\n",
        "\n",
        "with footwear as (\n",
        "select description,revenue\n",
        "from info\n",
        "inner join finance\n",
        "using (product_id)\n",
        "where (description ILIKE '%shoe%' OR\n",
        "description ILIKE '%trainer%' OR\n",
        "description ILIKE '%foot%') and\n",
        "DESCRIPTION is not null\n",
        ")\n",
        "\n",
        "select count(*) AS num_footwear_products,\n",
        "PERCENTILE_DISC(0.5) WITHIN GROUP (ORDER BY revenue) as median_footwear_revenue\n",
        "from footwear;\n",
        "\n"
      ]
    },
    {
      "cell_type": "markdown",
      "source": [
        "## 9. Clothing product performance"
      ],
      "metadata": {
        "id": "3OEXsvNYYUGy"
      }
    },
    {
      "cell_type": "code",
      "execution_count": null,
      "metadata": {
        "dc": {
          "key": "86"
        },
        "tags": [
          "sample_code"
        ],
        "id": "3nUWGiaXPaf5",
        "outputId": "32924cdb-83d6-4f1c-9fc3-89d13c12f3fc"
      },
      "outputs": [
        {
          "name": "stdout",
          "output_type": "stream",
          "text": [
            "1 rows affected.\n"
          ]
        },
        {
          "data": {
            "text/html": [
              "<table>\n",
              "    <tr>\n",
              "        <th>num_clothing_products</th>\n",
              "        <th>median_clothing_revenue</th>\n",
              "    </tr>\n",
              "    <tr>\n",
              "        <td>417</td>\n",
              "        <td>503.82</td>\n",
              "    </tr>\n",
              "</table>"
            ],
            "text/plain": [
              "[(417, 503.82)]"
            ]
          },
          "execution_count": 162,
          "metadata": {},
          "output_type": "execute_result"
        }
      ],
      "source": [
        "%%sql\n",
        "postgresql:///sports\n",
        "\n",
        "\n",
        "with footwear as (\n",
        "select description,revenue\n",
        "from info\n",
        "inner join finance\n",
        "using (product_id)\n",
        "where (description ILIKE '%shoe%' OR\n",
        "description ILIKE '%trainer%' OR\n",
        "description ILIKE '%foot%') and\n",
        "DESCRIPTION is not null\n",
        ")\n",
        "\n",
        "select count(*) as num_clothing_products,\n",
        "PERCENTILE_DISC(0.5) WITHIN GROUP (ORDER BY revenue) as median_clothing_revenue\n",
        "from info\n",
        "inner join finance using (product_id)\n",
        "where description NOT ILIKE '%shoe%' AND\n",
        "      description NOT ILIKE '%trainer%' AND\n",
        "      description NOT ILIKE '%foot%';\n"
      ]
    }
  ],
  "metadata": {
    "kernelspec": {
      "display_name": "Python 3 (ipykernel)",
      "language": "python",
      "name": "python3"
    },
    "language_info": {
      "codemirror_mode": {
        "name": "ipython",
        "version": 3
      },
      "file_extension": ".py",
      "mimetype": "text/x-python",
      "name": "python",
      "nbconvert_exporter": "python",
      "pygments_lexer": "ipython3",
      "version": "3.11.3"
    },
    "colab": {
      "provenance": []
    }
  },
  "nbformat": 4,
  "nbformat_minor": 0
}